{
 "cells": [
  {
   "cell_type": "markdown",
   "metadata": {},
   "source": [
    "# Polygon merger\n",
    "\n",
    "**Overview:**\n",
    "\n",
    "This includes functionality to merge polygons from adjacent tiles (regions of interest, ROI) that form a tiled array. This is particularly useful when working with algorithmic segmentation output, which typically produces segmentation masks that are much smaller in size (say, 512x512 pixels) relative to the tissue area. This means that at the edge of each tile the segmentation contour discontinues sharply. This is very problematic if you need to analyze histological structures that are very large, oftentimes thousands of pixels perimeter-wise. \n",
    "\n",
    "This extends on some of the workflows described in Amgad et al, 2019:\n",
    "\n",
    "__Mohamed Amgad, Habiba Elfandy, Hagar Hussein, ..., Jonathan Beezley, Deepak R Chittajallu, David Manthey, David A Gutman, Lee A D Cooper, Structured crowdsourcing enables convolutional segmentation of histology images, Bioinformatics, 2019, btz083__\n",
    "\n",
    "\n",
    "This slide used as a test example:\n",
    "\n",
    "[TCGA-A2-A0YE-01Z-00-DX1](http://candygram.neurology.emory.edu:8080/histomicstk#?image=5d5d6910bd4404c6b1f3d893&bounds=41996%2C43277%2C49947%2C46942%2C0 )\n",
    "\n",
    "__Original__ :\n",
    "![original](img/polygon_merger_unmerged.jpg)\n",
    "\n",
    "__Merged__ :\n",
    "![merged](img/polygon_merger_merged.jpg)\n",
    "\n",
    "\n",
    "**Implementation summary**\n",
    "\n",
    "The key requirement is that that the masks (ROIs) are rectangular and unrotated, everything else is taaken care of. This algorithm fuses polygon clusters in coordinate (not mask) space, which means is can merge almost-arbitrarily large structures without memory issues. The algorithm, in brief, works as follows:\n",
    "\n",
    "- Extract contours from the given masks using functionality from the ``masks_to_annotations_handler.py``, making sure to correctly account for contour offset so that all coordinates are relative to whole-slide image.\n",
    "\n",
    "- Identify contours that tough edge of each ROI and which edges they touch. \n",
    "\n",
    "- Identify shared edges between ROIs. \n",
    "\n",
    "- For each shared edge, find contours that are within the vicinity of each other (using bounding box location). If they are, then convert to shapely polygon and check if they actually are within a threshold distance of each other. If so, consider them a \"pair\" for merger.\n",
    "\n",
    "- Hierarchically cluster pairs of polygons such that all contiguous polygons (using 4-connectivity) are to be merged.\n",
    "\n",
    "- Get the union of each polygon \"clluster\" elements. The polygons are first dilated a bit to make sure any small gaps are covered, then they are merged and eroded.\n",
    "\n",
    "This initial set of \"vetting\" steps ensures that the number of comparisons is ``<< n^2``. This is very important since algorithm complexity plays a key role as whole slide images may contain tens of thousands of objects.\n",
    "\n",
    "**Where to look?**\n",
    "\n",
    "```\n",
    "|_ histomicstk/\n",
    "|   |_annotations_and_masks/\n",
    "|      |_polygon_merger.py \n",
    "|      |_tests/\n",
    "|         |_ polygon_merger_test.py\n",
    "|         |_ annotations_to_masks_handler_test.py\n",
    "|         |_test_files/\n",
    "|            |_polygon_merger_roi_masks/\n",
    "|_ docs/\n",
    "    |_examples/\n",
    "       |_polygon_merger.ipynb\n",
    "```"
   ]
  },
  {
   "cell_type": "code",
   "execution_count": 1,
   "metadata": {},
   "outputs": [],
   "source": [
    "from __future__ import print_function\n",
    "\n",
    "import os\n",
    "import sys\n",
    "CWD = os.getcwd()\n",
    "sys.path.append(os.path.join(CWD, '..', '..', 'histomicstk', 'annotations_and_masks'))\n",
    "\n",
    "import os\n",
    "import girder_client\n",
    "from pandas import read_csv\n",
    "\n",
    "from polygon_merger import Polygon_merger\n",
    "from masks_to_annotations_handler import (\n",
    "    get_annotation_documents_from_contours, )\n",
    "\n",
    "import matplotlib.pyplot as plt\n",
    "%matplotlib inline\n",
    "plt.rcParams['figure.figsize'] = 7, 7"
   ]
  },
  {
   "cell_type": "markdown",
   "metadata": {},
   "source": [
    "## 1. Constants & prep work"
   ]
  },
  {
   "cell_type": "code",
   "execution_count": 2,
   "metadata": {},
   "outputs": [],
   "source": [
    "APIURL = 'http://candygram.neurology.emory.edu:8080/api/v1/'\n",
    "SAMPLE_SLIDE_ID = '5d586d76bd4404c6b1f286ae'\n",
    "\n",
    "gc = girder_client.GirderClient(apiUrl=APIURL)\n",
    "# gc.authenticate(interactive=True)\n",
    "gc.authenticate(apiKey='kri19nTIGOkWH01TbzRqfohaaDWb6kPecRqGmemb')\n",
    "\n",
    "# read GTCodes dataframe\n",
    "PTESTS_PATH = os.path.join(\n",
    "    CWD, '..', '..', 'histomicstk', 'annotations_and_masks', 'tests')\n",
    "GTCODE_PATH = os.path.join(PTESTS_PATH, 'test_files', 'sample_GTcodes.csv')\n",
    "GTCodes_df = read_csv(GTCODE_PATH)\n",
    "GTCodes_df.index = GTCodes_df.loc[:, 'group']\n",
    "\n",
    "# This is where masks for adjacent rois are saved\n",
    "MASK_LOADPATH = os.path.join(\n",
    "    PTESTS_PATH,'test_files', 'polygon_merger_roi_masks')\n",
    "maskpaths = [\n",
    "    os.path.join(MASK_LOADPATH, j) for j in os.listdir(MASK_LOADPATH)\n",
    "    if j.endswith('.png')]"
   ]
  },
  {
   "cell_type": "markdown",
   "metadata": {},
   "source": [
    "## 2. Polygon merger"
   ]
  },
  {
   "cell_type": "markdown",
   "metadata": {},
   "source": [
    "### This is the class object you will be using"
   ]
  },
  {
   "cell_type": "code",
   "execution_count": 3,
   "metadata": {},
   "outputs": [
    {
     "name": "stdout",
     "output_type": "stream",
     "text": [
      "Methods to merge polygons in tiled masks.\n"
     ]
    }
   ],
   "source": [
    "print(Polygon_merger.__doc__)"
   ]
  },
  {
   "cell_type": "code",
   "execution_count": 4,
   "metadata": {},
   "outputs": [
    {
     "name": "stdout",
     "output_type": "stream",
     "text": [
      "Init Polygon_merger object.\n",
      "\n",
      "        Arguments:\n",
      "        -----------\n",
      "        maskpaths : list\n",
      "            list of strings representing pathos to masks\n",
      "        GTCodes_df : pandas DataFrame\n",
      "            the ground truth codes and information dataframe.\n",
      "            This is a dataframe that is indexed by the annotation group name\n",
      "            and has the following columns.\n",
      "\n",
      "            group: str\n",
      "                group name of annotation, eg. mostly_tumor.\n",
      "            GT_code: int\n",
      "                desired ground truth code (in the mask). Pixels of this value\n",
      "                belong to corresponding group (class).\n",
      "            coords_x : str\n",
      "                vertix x coordinates comma-separated values\n",
      "            coords_y\n",
      "                vertix y coordinated comma-separated values\n",
      "            color: str\n",
      "                rgb format. eg. rgb(255,0,0).\n",
      "        merge_thresh : int\n",
      "            how close do the polygons need to be (in pixels) to be merged\n",
      "        contkwargs : dict\n",
      "            dictionary of kwargs to pass to get_contours_from_mask()\n",
      "        discard_nonenclosed_background : bool\n",
      "            If a background group contour is NOT fully enclosed, discard it.\n",
      "            This is a purely aesthetic method, makes sure that the background\n",
      "            contours (eg stroma) are discarded by default to avoid cluttering\n",
      "            the field when posted to DSA for viewing online. The only exception\n",
      "            is if they are enclosed within something else (eg tumor), in which\n",
      "            case they are kept since they represent holes. This is related to\n",
      "            https://github.com/DigitalSlideArchive/HistomicsTK/issues/675\n",
      "            WARNING - This is a bit slower since the contours will have to be\n",
      "            converted to shapely polygons. It is not noticeable for hundreds of\n",
      "            contours, but you will notice the speed difference if you are\n",
      "            parsing thousands of contours. Default, for this reason, is False.\n",
      "        background_group : str\n",
      "            name of bckgrd group in the GT_codes dataframe (eg mostly_stroma)\n",
      "        roi_group : str\n",
      "            name of roi group in the GT_Codes dataframe (eg roi)\n",
      "        verbose : int\n",
      "            0 - Do not print to screen\n",
      "            1 - Print only key messages\n",
      "            2 - Print everything to screen\n",
      "        monitorPrefix : str\n",
      "            text to prepend to printed statements\n",
      "\n",
      "        \n"
     ]
    }
   ],
   "source": [
    "print(Polygon_merger.__init__.__doc__)"
   ]
  },
  {
   "cell_type": "code",
   "execution_count": 5,
   "metadata": {},
   "outputs": [
    {
     "name": "stdout",
     "output_type": "stream",
     "text": [
      "Run full pipeline to get merged contours.\n",
      "\n",
      "        Returns:\n",
      "        - pandas DataFrame: has the same structure as output from\n",
      "        get_contours_from_mask().\n",
      "\n",
      "        \n"
     ]
    }
   ],
   "source": [
    "print(Polygon_merger.run.__doc__)"
   ]
  },
  {
   "cell_type": "markdown",
   "metadata": {},
   "source": [
    "### This is the core merging method if you're interested."
   ]
  },
  {
   "cell_type": "markdown",
   "metadata": {},
   "source": [
    "### Required arguments for init"
   ]
  },
  {
   "cell_type": "markdown",
   "metadata": {},
   "source": [
    "#### Ground truth codes file"
   ]
  },
  {
   "cell_type": "markdown",
   "metadata": {},
   "source": [
    "This contains the ground truth codes and information dataframe. This is a dataframe that is indexed by the annotation group name and has the following columns:\n",
    "\n",
    "- ``group``: group name of annotation (string), eg. \"mostly_tumor\"\n",
    "- ``GT_code``: int, desired ground truth code (in the mask) Pixels of this value belong to corresponding group (class)\n",
    "- ``color``: str, rgb format. eg. rgb(255,0,0).\n",
    "\n",
    "IMPORTANT NOTE:\n",
    "\n",
    "Zero pixels have special meaning and do NOT encode specific ground truth class. Instead, they simply mean 'Outside ROI' and should be IGNORED during model training or evaluation."
   ]
  },
  {
   "cell_type": "code",
   "execution_count": 6,
   "metadata": {},
   "outputs": [
    {
     "data": {
      "text/html": [
       "<div>\n",
       "<style scoped>\n",
       "    .dataframe tbody tr th:only-of-type {\n",
       "        vertical-align: middle;\n",
       "    }\n",
       "\n",
       "    .dataframe tbody tr th {\n",
       "        vertical-align: top;\n",
       "    }\n",
       "\n",
       "    .dataframe thead th {\n",
       "        text-align: right;\n",
       "    }\n",
       "</style>\n",
       "<table border=\"1\" class=\"dataframe\">\n",
       "  <thead>\n",
       "    <tr style=\"text-align: right;\">\n",
       "      <th></th>\n",
       "      <th>group</th>\n",
       "      <th>overlay_order</th>\n",
       "      <th>GT_code</th>\n",
       "      <th>is_roi</th>\n",
       "      <th>is_background_class</th>\n",
       "      <th>color</th>\n",
       "      <th>comments</th>\n",
       "    </tr>\n",
       "    <tr>\n",
       "      <th>group</th>\n",
       "      <th></th>\n",
       "      <th></th>\n",
       "      <th></th>\n",
       "      <th></th>\n",
       "      <th></th>\n",
       "      <th></th>\n",
       "      <th></th>\n",
       "    </tr>\n",
       "  </thead>\n",
       "  <tbody>\n",
       "    <tr>\n",
       "      <th>roi</th>\n",
       "      <td>roi</td>\n",
       "      <td>0</td>\n",
       "      <td>255</td>\n",
       "      <td>1</td>\n",
       "      <td>0</td>\n",
       "      <td>rgb(200,0,150)</td>\n",
       "      <td>NaN</td>\n",
       "    </tr>\n",
       "    <tr>\n",
       "      <th>evaluation_roi</th>\n",
       "      <td>evaluation_roi</td>\n",
       "      <td>0</td>\n",
       "      <td>254</td>\n",
       "      <td>1</td>\n",
       "      <td>0</td>\n",
       "      <td>rgb(255,0,0)</td>\n",
       "      <td>NaN</td>\n",
       "    </tr>\n",
       "    <tr>\n",
       "      <th>mostly_tumor</th>\n",
       "      <td>mostly_tumor</td>\n",
       "      <td>1</td>\n",
       "      <td>1</td>\n",
       "      <td>0</td>\n",
       "      <td>0</td>\n",
       "      <td>rgb(255,0,0)</td>\n",
       "      <td>core class</td>\n",
       "    </tr>\n",
       "    <tr>\n",
       "      <th>mostly_stroma</th>\n",
       "      <td>mostly_stroma</td>\n",
       "      <td>2</td>\n",
       "      <td>2</td>\n",
       "      <td>0</td>\n",
       "      <td>1</td>\n",
       "      <td>rgb(255,125,0)</td>\n",
       "      <td>core class</td>\n",
       "    </tr>\n",
       "    <tr>\n",
       "      <th>mostly_lymphocytic_infiltrate</th>\n",
       "      <td>mostly_lymphocytic_infiltrate</td>\n",
       "      <td>1</td>\n",
       "      <td>3</td>\n",
       "      <td>0</td>\n",
       "      <td>0</td>\n",
       "      <td>rgb(0,0,255)</td>\n",
       "      <td>core class</td>\n",
       "    </tr>\n",
       "  </tbody>\n",
       "</table>\n",
       "</div>"
      ],
      "text/plain": [
       "                                                       group  overlay_order  \\\n",
       "group                                                                         \n",
       "roi                                                      roi              0   \n",
       "evaluation_roi                                evaluation_roi              0   \n",
       "mostly_tumor                                    mostly_tumor              1   \n",
       "mostly_stroma                                  mostly_stroma              2   \n",
       "mostly_lymphocytic_infiltrate  mostly_lymphocytic_infiltrate              1   \n",
       "\n",
       "                               GT_code  is_roi  is_background_class  \\\n",
       "group                                                                 \n",
       "roi                                255       1                    0   \n",
       "evaluation_roi                     254       1                    0   \n",
       "mostly_tumor                         1       0                    0   \n",
       "mostly_stroma                        2       0                    1   \n",
       "mostly_lymphocytic_infiltrate        3       0                    0   \n",
       "\n",
       "                                        color    comments  \n",
       "group                                                      \n",
       "roi                            rgb(200,0,150)         NaN  \n",
       "evaluation_roi                   rgb(255,0,0)         NaN  \n",
       "mostly_tumor                     rgb(255,0,0)  core class  \n",
       "mostly_stroma                  rgb(255,125,0)  core class  \n",
       "mostly_lymphocytic_infiltrate    rgb(0,0,255)  core class  "
      ]
     },
     "execution_count": 6,
     "metadata": {},
     "output_type": "execute_result"
    }
   ],
   "source": [
    "GTCodes_df.head()"
   ]
  },
  {
   "cell_type": "markdown",
   "metadata": {},
   "source": [
    "#### maskpaths\n",
    "\n",
    "These are absolute paths for the masks/tiles/ROIs to be used."
   ]
  },
  {
   "cell_type": "code",
   "execution_count": 7,
   "metadata": {},
   "outputs": [
    {
     "data": {
      "text/plain": [
       "['TCGA-A2-A0YE-01Z-00-DX1.8A2E3094-5755-42BC-969D-7F0A2ECA0F39_left-44350_top-43750_mag-BASE.png',\n",
       " 'TCGA-A2-A0YE-01Z-00-DX1.8A2E3094-5755-42BC-969D-7F0A2ECA0F39_left-44350_top-44262_mag-BASE.png',\n",
       " 'TCGA-A2-A0YE-01Z-00-DX1.8A2E3094-5755-42BC-969D-7F0A2ECA0F39_left-44350_top-44774_mag-BASE.png',\n",
       " 'TCGA-A2-A0YE-01Z-00-DX1.8A2E3094-5755-42BC-969D-7F0A2ECA0F39_left-44350_top-45286_mag-BASE.png',\n",
       " 'TCGA-A2-A0YE-01Z-00-DX1.8A2E3094-5755-42BC-969D-7F0A2ECA0F39_left-44350_top-45798_mag-BASE.png']"
      ]
     },
     "execution_count": 7,
     "metadata": {},
     "output_type": "execute_result"
    }
   ],
   "source": [
    "[os.path.split(j)[1] for j in maskpaths[:5]]"
   ]
  },
  {
   "cell_type": "markdown",
   "metadata": {},
   "source": [
    "Note that the pattern ```_left-123_``` and ```_top-123_``` is assumed to encode the x and y offset\n",
    "of the mask at base magnification. If you prefer some other convention, you will need to manually provide the\n",
    "parameter ``roi_offsets`` to the method ``Polygon_merger.set_roi_bboxes``."
   ]
  },
  {
   "cell_type": "code",
   "execution_count": 8,
   "metadata": {},
   "outputs": [
    {
     "name": "stdout",
     "output_type": "stream",
     "text": [
      "Get dictionary of roi bounding boxes.\n",
      "\n",
      "        Arguments:\n",
      "        - roi_offsets: dict (default, None): dict indexed by maskname,\n",
      "        each entry is a dict with keys top and left each is an integer.\n",
      "        If None, then the x and y offset is inferred from mask name.\n",
      "\n",
      "        Sets:\n",
      "        - self.roiinfos: dict: dict indexed by maskname, each entry is a\n",
      "        dict with keys top, left, bottom, right, all of which are integers.\n",
      "\n",
      "        \n"
     ]
    }
   ],
   "source": [
    "print(Polygon_merger.set_roi_bboxes.__doc__)"
   ]
  },
  {
   "cell_type": "markdown",
   "metadata": {},
   "source": [
    "## 3. Let's init and run the merger\n",
    "\n",
    "To keep things \"pretty\", we discard background contours (in this case, stroma), that\n",
    "are now enclosed with anouther contour. See docs for ``masks_to_annotations_handler.py``\n",
    "if this is confusing. It is purely aesthetic."
   ]
  },
  {
   "cell_type": "code",
   "execution_count": 9,
   "metadata": {},
   "outputs": [
    {
     "name": "stdout",
     "output_type": "stream",
     "text": [
      "\n",
      "test: Set contours from all masks\n",
      "\n",
      "test: Set ROI bounding boxes\n",
      "\n",
      "test: Set shard ROI edges\n",
      "\n",
      "test: Set merged contours\n",
      "\n",
      "test: Get concatenated contours\n",
      "test: _discard_nonenclosed_background_group: discarded 4 contours\n"
     ]
    }
   ],
   "source": [
    "pm = Polygon_merger(\n",
    "    maskpaths=maskpaths, GTCodes_df=GTCodes_df,\n",
    "    discard_nonenclosed_background=True, verbose=1,\n",
    "    monitorPrefix='test')\n",
    "contours_df = pm.run()"
   ]
  },
  {
   "cell_type": "markdown",
   "metadata": {},
   "source": [
    "### This is the result"
   ]
  },
  {
   "cell_type": "code",
   "execution_count": 10,
   "metadata": {},
   "outputs": [
    {
     "data": {
      "text/html": [
       "<div>\n",
       "<style scoped>\n",
       "    .dataframe tbody tr th:only-of-type {\n",
       "        vertical-align: middle;\n",
       "    }\n",
       "\n",
       "    .dataframe tbody tr th {\n",
       "        vertical-align: top;\n",
       "    }\n",
       "\n",
       "    .dataframe thead th {\n",
       "        text-align: right;\n",
       "    }\n",
       "</style>\n",
       "<table border=\"1\" class=\"dataframe\">\n",
       "  <thead>\n",
       "    <tr style=\"text-align: right;\">\n",
       "      <th></th>\n",
       "      <th>group</th>\n",
       "      <th>color</th>\n",
       "      <th>ymin</th>\n",
       "      <th>ymax</th>\n",
       "      <th>xmin</th>\n",
       "      <th>xmax</th>\n",
       "      <th>has_holes</th>\n",
       "      <th>touches_edge-top</th>\n",
       "      <th>touches_edge-left</th>\n",
       "      <th>touches_edge-bottom</th>\n",
       "      <th>touches_edge-right</th>\n",
       "      <th>coords_x</th>\n",
       "      <th>coords_y</th>\n",
       "    </tr>\n",
       "  </thead>\n",
       "  <tbody>\n",
       "    <tr>\n",
       "      <th>0</th>\n",
       "      <td>mostly_tumor</td>\n",
       "      <td>rgb(255,0,0)</td>\n",
       "      <td>NaN</td>\n",
       "      <td>NaN</td>\n",
       "      <td>NaN</td>\n",
       "      <td>NaN</td>\n",
       "      <td>0</td>\n",
       "      <td>NaN</td>\n",
       "      <td>NaN</td>\n",
       "      <td>NaN</td>\n",
       "      <td>NaN</td>\n",
       "      <td>44350,44350,44384,44384,44385,44385,44386,4438...</td>\n",
       "      <td>44445,44446,44446,44445,44445,44445,44445,4444...</td>\n",
       "    </tr>\n",
       "    <tr>\n",
       "      <th>1</th>\n",
       "      <td>mostly_tumor</td>\n",
       "      <td>rgb(255,0,0)</td>\n",
       "      <td>NaN</td>\n",
       "      <td>NaN</td>\n",
       "      <td>NaN</td>\n",
       "      <td>NaN</td>\n",
       "      <td>0</td>\n",
       "      <td>NaN</td>\n",
       "      <td>NaN</td>\n",
       "      <td>NaN</td>\n",
       "      <td>NaN</td>\n",
       "      <td>44350,44350,44350,44350,44350,44350,44350,4435...</td>\n",
       "      <td>44615,44615,44615,44771,44771,44772,44772,4477...</td>\n",
       "    </tr>\n",
       "    <tr>\n",
       "      <th>2</th>\n",
       "      <td>mostly_tumor</td>\n",
       "      <td>rgb(255,0,0)</td>\n",
       "      <td>NaN</td>\n",
       "      <td>NaN</td>\n",
       "      <td>NaN</td>\n",
       "      <td>NaN</td>\n",
       "      <td>0</td>\n",
       "      <td>NaN</td>\n",
       "      <td>NaN</td>\n",
       "      <td>NaN</td>\n",
       "      <td>NaN</td>\n",
       "      <td>44350,44350,44350,44350,44350,44350,44350,4435...</td>\n",
       "      <td>45129,45129,45283,45283,45284,45284,45285,4528...</td>\n",
       "    </tr>\n",
       "    <tr>\n",
       "      <th>3</th>\n",
       "      <td>mostly_tumor</td>\n",
       "      <td>rgb(255,0,0)</td>\n",
       "      <td>NaN</td>\n",
       "      <td>NaN</td>\n",
       "      <td>NaN</td>\n",
       "      <td>NaN</td>\n",
       "      <td>0</td>\n",
       "      <td>NaN</td>\n",
       "      <td>NaN</td>\n",
       "      <td>NaN</td>\n",
       "      <td>NaN</td>\n",
       "      <td>45822,45822,45822,45823,45823,45823,45823,4582...</td>\n",
       "      <td>43915,43916,43916,43916,43917,43917,43917,4391...</td>\n",
       "    </tr>\n",
       "    <tr>\n",
       "      <th>4</th>\n",
       "      <td>mostly_tumor</td>\n",
       "      <td>rgb(255,0,0)</td>\n",
       "      <td>NaN</td>\n",
       "      <td>NaN</td>\n",
       "      <td>NaN</td>\n",
       "      <td>NaN</td>\n",
       "      <td>0</td>\n",
       "      <td>NaN</td>\n",
       "      <td>NaN</td>\n",
       "      <td>NaN</td>\n",
       "      <td>NaN</td>\n",
       "      <td>46312,46312,46315,46316,46316,46316,46317,4631...</td>\n",
       "      <td>44252,44253,44256,44256,44257,44257,44257,4425...</td>\n",
       "    </tr>\n",
       "  </tbody>\n",
       "</table>\n",
       "</div>"
      ],
      "text/plain": [
       "          group         color ymin ymax xmin xmax has_holes touches_edge-top  \\\n",
       "0  mostly_tumor  rgb(255,0,0)  NaN  NaN  NaN  NaN         0              NaN   \n",
       "1  mostly_tumor  rgb(255,0,0)  NaN  NaN  NaN  NaN         0              NaN   \n",
       "2  mostly_tumor  rgb(255,0,0)  NaN  NaN  NaN  NaN         0              NaN   \n",
       "3  mostly_tumor  rgb(255,0,0)  NaN  NaN  NaN  NaN         0              NaN   \n",
       "4  mostly_tumor  rgb(255,0,0)  NaN  NaN  NaN  NaN         0              NaN   \n",
       "\n",
       "  touches_edge-left touches_edge-bottom touches_edge-right  \\\n",
       "0               NaN                 NaN                NaN   \n",
       "1               NaN                 NaN                NaN   \n",
       "2               NaN                 NaN                NaN   \n",
       "3               NaN                 NaN                NaN   \n",
       "4               NaN                 NaN                NaN   \n",
       "\n",
       "                                            coords_x  \\\n",
       "0  44350,44350,44384,44384,44385,44385,44386,4438...   \n",
       "1  44350,44350,44350,44350,44350,44350,44350,4435...   \n",
       "2  44350,44350,44350,44350,44350,44350,44350,4435...   \n",
       "3  45822,45822,45822,45823,45823,45823,45823,4582...   \n",
       "4  46312,46312,46315,46316,46316,46316,46317,4631...   \n",
       "\n",
       "                                            coords_y  \n",
       "0  44445,44446,44446,44445,44445,44445,44445,4444...  \n",
       "1  44615,44615,44615,44771,44771,44772,44772,4477...  \n",
       "2  45129,45129,45283,45283,45284,45284,45285,4528...  \n",
       "3  43915,43916,43916,43916,43917,43917,43917,4391...  \n",
       "4  44252,44253,44256,44256,44257,44257,44257,4425...  "
      ]
     },
     "execution_count": 10,
     "metadata": {},
     "output_type": "execute_result"
    }
   ],
   "source": [
    "contours_df.head()"
   ]
  },
  {
   "cell_type": "markdown",
   "metadata": {},
   "source": [
    "## 4. (Optional) - Visualize results on HistomicsTK"
   ]
  },
  {
   "cell_type": "code",
   "execution_count": 11,
   "metadata": {},
   "outputs": [],
   "source": [
    "# deleting existing annotations in target slide (if any)\n",
    "existing_annotations = gc.get('/annotation/item/' + SAMPLE_SLIDE_ID)\n",
    "for ann in existing_annotations:\n",
    "    gc.delete('/annotation/%s' % ann['_id'])\n",
    "\n",
    "# get list of annotation documents\n",
    "annotation_docs = get_annotation_documents_from_contours(\n",
    "    contours_df.copy(), separate_docs_by_group=True,\n",
    "    docnamePrefix='test',\n",
    "    verbose=False, monitorPrefix=SAMPLE_SLIDE_ID + \": annotation docs\")\n",
    "\n",
    "# post annotations to slide -- make sure it posts without errors\n",
    "for annotation_doc in annotation_docs:\n",
    "    resp = gc.post(\n",
    "        \"/annotation?itemId=\" + SAMPLE_SLIDE_ID, json=annotation_doc)"
   ]
  },
  {
   "cell_type": "markdown",
   "metadata": {},
   "source": [
    "Now you can go to:\n",
    "\n",
    "[TCGA-A2-A0YE-01Z-00-DX1](http://candygram.neurology.emory.edu:8080/histomicstk#?image=5d586d76bd4404c6b1f286ae&bounds=41996%2C43277%2C49947%2C46942%2C0 )\n",
    "\n",
    "and confirm that the posted annotations make sense and correspond to tissue boundaries and expected labels."
   ]
  },
  {
   "cell_type": "markdown",
   "metadata": {},
   "source": [
    "## 5. (EXTRA) - Explore some of the inner workings"
   ]
  },
  {
   "cell_type": "markdown",
   "metadata": {},
   "source": [
    "### Core method being called to merge polygons\n",
    "\n",
    "This relies on ``shapely``. "
   ]
  },
  {
   "cell_type": "code",
   "execution_count": 12,
   "metadata": {},
   "outputs": [
    {
     "name": "stdout",
     "output_type": "stream",
     "text": [
      "Merge polygons using shapely (Internal).\n",
      "\n",
      "        Given a single cluster from _get_merge_clusters_from_df(), This creates\n",
      "        and merges polygons into a single cascaded union. It first dilates the\n",
      "        polygons by buffer_size pixels to make them overlap, merges them,\n",
      "        then erodes back by buffer_size to get the merged polygon.\n",
      "\n",
      "        \n"
     ]
    }
   ],
   "source": [
    "print(Polygon_merger._get_merged_polygon.__doc__)"
   ]
  },
  {
   "cell_type": "markdown",
   "metadata": {},
   "source": [
    "You  may also want to checkout ``Polygon_merger._add_merged_edge_contours`` for details on how the various\n",
    "``shapely`` geometries (polygon, multipolygon, eyc) are handled."
   ]
  }
 ],
 "metadata": {
  "kernelspec": {
   "display_name": "Python 3",
   "language": "python",
   "name": "python3"
  },
  "language_info": {
   "codemirror_mode": {
    "name": "ipython",
    "version": 3
   },
   "file_extension": ".py",
   "mimetype": "text/x-python",
   "name": "python",
   "nbconvert_exporter": "python",
   "pygments_lexer": "ipython3",
   "version": "3.6.4"
  }
 },
 "nbformat": 4,
 "nbformat_minor": 2
}
