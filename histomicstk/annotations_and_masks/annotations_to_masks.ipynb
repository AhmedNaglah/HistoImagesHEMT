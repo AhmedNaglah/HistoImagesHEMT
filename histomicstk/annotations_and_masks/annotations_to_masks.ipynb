{
 "cells": [
  {
   "cell_type": "code",
   "execution_count": 1,
   "metadata": {},
   "outputs": [],
   "source": [
    "from __future__ import print_function\n",
    "\n",
    "import os\n",
    "import sys\n",
    "CWD = os.getcwd()\n",
    "sys.path.append(os.path.join(CWD, '..', '..'))\n",
    "\n",
    "import girder_client\n",
    "# from histomicstk.annotations_and_masks.annotation_and_mask_utils import (\n",
    "#     get_image_from_htk_response, get_bboxes_from_slide_annotations)\n",
    "from annotation_and_mask_utils import (\n",
    "    get_image_from_htk_response, get_bboxes_from_slide_annotations)\n",
    "\n",
    "import matplotlib.pyplot as plt\n",
    "%matplotlib inline\n",
    "\n",
    "#Some nice default configuration for plots\n",
    "plt.rcParams['figure.figsize'] = 15, 15\n",
    "plt.rcParams['image.cmap'] = 'gray'\n",
    "titlesize = 24"
   ]
  },
  {
   "cell_type": "code",
   "execution_count": null,
   "metadata": {},
   "outputs": [],
   "source": []
  }
 ],
 "metadata": {
  "kernelspec": {
   "display_name": "Python 3",
   "language": "python",
   "name": "python3"
  },
  "language_info": {
   "codemirror_mode": {
    "name": "ipython",
    "version": 3
   },
   "file_extension": ".py",
   "mimetype": "text/x-python",
   "name": "python",
   "nbconvert_exporter": "python",
   "pygments_lexer": "ipython3",
   "version": "3.6.4"
  }
 },
 "nbformat": 4,
 "nbformat_minor": 2
}
